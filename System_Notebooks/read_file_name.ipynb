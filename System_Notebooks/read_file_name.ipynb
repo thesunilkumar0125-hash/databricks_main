{
 "cells": [
  {
   "cell_type": "code",
   "execution_count": 0,
   "metadata": {
    "application/vnd.databricks.v1+cell": {
     "cellMetadata": {
      "byteLimit": 2048000,
      "rowLimit": 10000
     },
     "inputWidgets": {},
     "nuid": "c3879add-129a-476f-84d1-f3d2de44753b",
     "showTitle": false,
     "tableResultSettingsMap": {},
     "title": ""
    }
   },
   "outputs": [],
   "source": [
    "import pandas as pd\n",
    "from pyspark.sql.functions import *\n",
    "from azure.storage.blob import BlobServiceClient\n",
    "import re"
   ]
  },
  {
   "cell_type": "code",
   "execution_count": 0,
   "metadata": {
    "application/vnd.databricks.v1+cell": {
     "cellMetadata": {
      "byteLimit": 2048000,
      "rowLimit": 10000
     },
     "inputWidgets": {},
     "nuid": "cbbf06e5-e4fd-4cde-9959-df0afaa76183",
     "showTitle": false,
     "tableResultSettingsMap": {},
     "title": ""
    }
   },
   "outputs": [],
   "source": [
    "FILE_NAME_REGEX_PATTERN = re.compile(r\"\"\"^([a-zA-Z]+_)?([a-zA-Z]+)_(\\d+)_((\\d+)_)?\\d+\\.\\w+$\"\"\")"
   ]
  },
  {
   "cell_type": "code",
   "execution_count": 0,
   "metadata": {
    "application/vnd.databricks.v1+cell": {
     "cellMetadata": {
      "byteLimit": 2048000,
      "rowLimit": 10000
     },
     "inputWidgets": {},
     "nuid": "d7e26753-3abb-4db0-92d5-db755372c630",
     "showTitle": false,
     "tableResultSettingsMap": {},
     "title": ""
    }
   },
   "outputs": [],
   "source": [
    "from azure.storage.blob import BlobServiceClient\n",
    "\n",
    "# Storage account name\n",
    "blobName = dbutils.secrets.get(scope = \"sunilscope\",key=\"container\")\n",
    "\n",
    "# Fetch storage account key from secrets\n",
    "account_key = dbutils.secrets.get(scope=\"sunilscope\", key=\"app-secret\")\n",
    "\n",
    "# Create client\n",
    "blob_service_client = BlobServiceClient(\n",
    "    account_url=f\"https://{blobName}.blob.core.windows.net\",\n",
    "    credential=dbutils.secrets.get(scope = \"sunilscope\",key=\"storage-key\")\n",
    ")\n",
    "\n",
    "# Access container and list blobs\n",
    "container_name = \"bronze\"\n",
    "container_client = blob_service_client.get_container_client(container_name)\n",
    "\n",
    "folder_name = \"inbound/\"\n",
    "file_ls = [file[\"name\"] for file in container_client.list_blobs(name_starts_with=folder_name)]\n",
    "\n",
    "file_ls\n"
   ]
  },
  {
   "cell_type": "code",
   "execution_count": 0,
   "metadata": {
    "application/vnd.databricks.v1+cell": {
     "cellMetadata": {
      "byteLimit": 2048000,
      "rowLimit": 10000
     },
     "inputWidgets": {},
     "nuid": "71cf38f0-9d65-41b5-acbc-54046ce68893",
     "showTitle": false,
     "tableResultSettingsMap": {},
     "title": ""
    }
   },
   "outputs": [],
   "source": [
    "file_ls = \"\".join(file_ls)\n",
    "fileName = file_ls.split('/')[-1]\n",
    "match = FILE_NAME_REGEX_PATTERN.match(fileName)\n",
    "if match:\n",
    "    category = match.group(2).lower()\n",
    "    tpa_id = match.group(3)\n",
    "    client_id = match.group(5)\n",
    "print(client_id)"
   ]
  }
 ],
 "metadata": {
  "application/vnd.databricks.v1+notebook": {
   "computePreferences": null,
   "dashboards": [],
   "environmentMetadata": {
    "base_environment": "",
    "environment_version": "3"
   },
   "inputWidgetPreferences": null,
   "language": "python",
   "notebookMetadata": {
    "pythonIndentUnit": 4
   },
   "notebookName": "read_file_name",
   "widgets": {}
  },
  "language_info": {
   "name": "python"
  }
 },
 "nbformat": 4,
 "nbformat_minor": 0
}
